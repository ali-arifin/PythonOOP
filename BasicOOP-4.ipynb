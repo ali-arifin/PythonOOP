{
 "cells": [
  {
   "cell_type": "markdown",
   "id": "c343a631",
   "metadata": {},
   "source": [
    "**A basic Class**\n",
    "\n",
    "Classes are blueprints for creating objects. A class defines a set of attributes and methods that the created objects (instances) can have.\n",
    "\n",
    "Class: Fruit\n",
    "\n",
    "Objects: Apple, Orange, Mango"
   ]
  },
  {
   "cell_type": "code",
   "execution_count": 17,
   "id": "60d4ca32",
   "metadata": {},
   "outputs": [],
   "source": [
    "class SamsungGalaxy:\n",
    "    ram='4gb'\n",
    "    cpu='2.8ghz'\n",
    "    storage='64gb'\n",
    "\n",
    "    def makeCall(self):\n",
    "        print('calling')\n",
    "    def takePic(self):\n",
    "        print('smile')"
   ]
  },
  {
   "cell_type": "code",
   "execution_count": 18,
   "id": "5e481707",
   "metadata": {},
   "outputs": [
    {
     "data": {
      "text/plain": [
       "'4gb'"
      ]
     },
     "execution_count": 18,
     "metadata": {},
     "output_type": "execute_result"
    }
   ],
   "source": [
    "ali_phone=SamsungGalaxy()\n",
    "ali_phone.ram"
   ]
  },
  {
   "cell_type": "code",
   "execution_count": 19,
   "id": "f74e9e49",
   "metadata": {},
   "outputs": [
    {
     "name": "stdout",
     "output_type": "stream",
     "text": [
      "calling\n"
     ]
    }
   ],
   "source": [
    "ali_phone.makeCall()"
   ]
  },
  {
   "cell_type": "markdown",
   "id": "52af217c",
   "metadata": {},
   "source": [
    "**Class with constructor**\n",
    "\n",
    "In Python, a constructor is a special method used to initialize a newly created object of a class. It is automatically called when an instance of the class is created\n",
    "\n",
    "Such special methods begin and end with a double underscore and are informally known as dunder methods."
   ]
  },
  {
   "cell_type": "code",
   "execution_count": 5,
   "id": "ea581186",
   "metadata": {},
   "outputs": [],
   "source": [
    "class Patient:\n",
    "    def __init__(self,id,name,age,disease):\n",
    "        self.id=id\n",
    "        self.name=name\n",
    "        self.age=age\n",
    "        self.disease=disease\n",
    "    def getprofile(self):\n",
    "        print(f'''\n",
    "        ---------------\n",
    "        PATIENT PROFILE\n",
    "        ---------------\n",
    "        ID:{self.id}\n",
    "        NAME:{self.name}\n",
    "        AGE:{self.age}\n",
    "        DISEASE:{self.disease}''')"
   ]
  },
  {
   "cell_type": "code",
   "execution_count": 7,
   "id": "23260bf6",
   "metadata": {},
   "outputs": [
    {
     "name": "stdout",
     "output_type": "stream",
     "text": [
      "\n",
      "        ---------------\n",
      "        PATIENT PROFILE\n",
      "        ---------------\n",
      "        ID:1\n",
      "        NAME:Alex\n",
      "        AGE:54\n",
      "        DISEASE:High BP\n"
     ]
    }
   ],
   "source": [
    "p1=Patient(1,'Alex',54,'High BP')\n",
    "p1.getprofile()"
   ]
  },
  {
   "cell_type": "markdown",
   "id": "28b7e13c",
   "metadata": {},
   "source": [
    "**str dunder method**"
   ]
  },
  {
   "cell_type": "code",
   "execution_count": 8,
   "id": "ccf3ed3e",
   "metadata": {},
   "outputs": [
    {
     "name": "stdout",
     "output_type": "stream",
     "text": [
      "<__main__.Person object at 0x000001712C873E20>\n"
     ]
    }
   ],
   "source": [
    "class Person:\n",
    "  def __init__(self, name, age):\n",
    "    self.name = name\n",
    "    self.age = age\n",
    "\n",
    "p1 = Person(\"John\", 36)\n",
    "print(p1)"
   ]
  },
  {
   "cell_type": "code",
   "execution_count": 13,
   "id": "6e622f70",
   "metadata": {},
   "outputs": [
    {
     "name": "stdout",
     "output_type": "stream",
     "text": [
      "name is John and age is 36\n"
     ]
    }
   ],
   "source": [
    "class Person:\n",
    "  def __init__(self, name, age):\n",
    "    self.name = name\n",
    "    self.age = age\n",
    "\n",
    "  def __str__(self):\n",
    "    return f\"name is {self.name} and age is {self.age}\"\n",
    "\n",
    "p1 = Person(\"John\", 36)\n",
    "\n",
    "print(p1)"
   ]
  }
 ],
 "metadata": {
  "kernelspec": {
   "display_name": "Python 3",
   "language": "python",
   "name": "python3"
  },
  "language_info": {
   "codemirror_mode": {
    "name": "ipython",
    "version": 3
   },
   "file_extension": ".py",
   "mimetype": "text/x-python",
   "name": "python",
   "nbconvert_exporter": "python",
   "pygments_lexer": "ipython3",
   "version": "3.10.11"
  }
 },
 "nbformat": 4,
 "nbformat_minor": 5
}
