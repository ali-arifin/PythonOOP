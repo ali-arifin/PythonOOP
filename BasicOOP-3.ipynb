{
  "cells": [
    {
      "cell_type": "code",
      "execution_count": 1,
      "metadata": {
        "colab": {
          "base_uri": "https://localhost:8080/"
        },
        "id": "lEEMyx9S5-x9",
        "outputId": "f5196acd-f232-4913-a0a5-0910336137fa"
      },
      "outputs": [
        {
          "data": {
            "text/plain": [
              "(16, 64, 2.0)"
            ]
          },
          "execution_count": 1,
          "metadata": {},
          "output_type": "execute_result"
        }
      ],
      "source": [
        "class Calculator:\n",
        "  def __init__(self, num):\n",
        "    self.num=num\n",
        "  def oper(self):\n",
        "    return (self.num **2, self.num **3, self.num **0.5)\n",
        "  \n",
        "test1=Calculator(4)\n",
        "test1.oper() "
      ]
    },
    {
      "cell_type": "code",
      "execution_count": 3,
      "metadata": {
        "colab": {
          "base_uri": "https://localhost:8080/"
        },
        "id": "lgG4tP6s7mFK",
        "outputId": "a77a35c0-c52d-43d0-c7e4-755faf97ee86"
      },
      "outputs": [
        {
          "data": {
            "text/plain": [
              "(16, 64, 2.0)"
            ]
          },
          "execution_count": 3,
          "metadata": {},
          "output_type": "execute_result"
        }
      ],
      "source": [
        "class MyCalculator:\n",
        "  def oper(self,num):\n",
        "    self.num=num\n",
        "    return (self.num **2, self.num **3, self.num **0.5)\n",
        "  \n",
        "test01=MyCalculator()\n",
        "test01.oper(4) "
      ]
    },
    {
      "cell_type": "markdown",
      "metadata": {},
      "source": [
        "**Class variables (static variables) & instance variables**"
      ]
    },
    {
      "cell_type": "code",
      "execution_count": 13,
      "metadata": {},
      "outputs": [],
      "source": [
        "class Z:\n",
        "    a=1                        # class variable\n",
        "    def __init__(self,b,c):\n",
        "        self.b=b\n",
        "        self.c=c\n",
        "\n",
        "z1=Z(2,3)\n",
        "z2=Z(4,5)"
      ]
    },
    {
      "cell_type": "code",
      "execution_count": 14,
      "metadata": {},
      "outputs": [
        {
          "data": {
            "text/plain": [
              "(1, 1)"
            ]
          },
          "execution_count": 14,
          "metadata": {},
          "output_type": "execute_result"
        }
      ],
      "source": [
        "z1.a, z2.a"
      ]
    },
    {
      "cell_type": "code",
      "execution_count": 17,
      "metadata": {},
      "outputs": [],
      "source": [
        "Z.a=100                # changing class variable"
      ]
    },
    {
      "cell_type": "code",
      "execution_count": 18,
      "metadata": {},
      "outputs": [
        {
          "data": {
            "text/plain": [
              "(100, 100)"
            ]
          },
          "execution_count": 18,
          "metadata": {},
          "output_type": "execute_result"
        }
      ],
      "source": [
        "z1.a, z2.a"
      ]
    },
    {
      "cell_type": "code",
      "execution_count": 20,
      "metadata": {},
      "outputs": [],
      "source": [
        "z1.a=101               # changing instance variable"
      ]
    },
    {
      "cell_type": "code",
      "execution_count": 22,
      "metadata": {},
      "outputs": [
        {
          "data": {
            "text/plain": [
              "(101, 100)"
            ]
          },
          "execution_count": 22,
          "metadata": {},
          "output_type": "execute_result"
        }
      ],
      "source": [
        "z1.a, z2.a"
      ]
    },
    {
      "cell_type": "code",
      "execution_count": 23,
      "metadata": {},
      "outputs": [],
      "source": [
        "Z.a=1000"
      ]
    },
    {
      "cell_type": "code",
      "execution_count": 25,
      "metadata": {},
      "outputs": [
        {
          "data": {
            "text/plain": [
              "(101, 1000)"
            ]
          },
          "execution_count": 25,
          "metadata": {},
          "output_type": "execute_result"
        }
      ],
      "source": [
        "z1.a, z2.a            # instance variable z1.a=101 takes precedence"
      ]
    },
    {
      "cell_type": "markdown",
      "metadata": {},
      "source": [
        "**Class method: An alternate to constructor**"
      ]
    },
    {
      "cell_type": "code",
      "execution_count": 43,
      "metadata": {},
      "outputs": [
        {
          "name": "stdout",
          "output_type": "stream",
          "text": [
            "Bilal 27\n",
            "Ali 27\n"
          ]
        }
      ],
      "source": [
        "from datetime import date\n",
        "\n",
        "class Person:\n",
        "    def __init__(self, name, age):\n",
        "        self.name = name\n",
        "        self.age = age\n",
        "\n",
        "    # a class method to create a Person object by birth year\n",
        "    @classmethod\n",
        "    def fromBirthYear(cls, name, year):\n",
        "        return cls(name, date.today().year - year)\n",
        "\n",
        "# Creating an instance using the constructor\n",
        "person1 = Person('Bilal', 27)\n",
        "\n",
        "# Creating an instance using the class method\n",
        "person2 = Person.fromBirthYear('Ali', 1998)\n",
        "\n",
        "print(person1.name,person1.age)\n",
        "print(person2.name,person2.age)"
      ]
    },
    {
      "cell_type": "markdown",
      "metadata": {},
      "source": [
        "**static method**\n",
        "\n",
        "A static method is a method that is bound to the class and not the object of the class. This method can't access or modify the class state\n",
        "\n",
        "Static methods: no self required"
      ]
    },
    {
      "cell_type": "code",
      "execution_count": 33,
      "metadata": {},
      "outputs": [],
      "source": [
        "class N:\n",
        "    @staticmethod\n",
        "    def greet():\n",
        "        return 'Hi'\n",
        "\n",
        "n1=N()"
      ]
    },
    {
      "cell_type": "code",
      "execution_count": 34,
      "metadata": {},
      "outputs": [
        {
          "data": {
            "text/plain": [
              "'Hi'"
            ]
          },
          "execution_count": 34,
          "metadata": {},
          "output_type": "execute_result"
        }
      ],
      "source": [
        "n1.greet()"
      ]
    },
    {
      "cell_type": "code",
      "execution_count": null,
      "metadata": {},
      "outputs": [
        {
          "data": {
            "text/plain": [
              "'Hi'"
            ]
          },
          "execution_count": 44,
          "metadata": {},
          "output_type": "execute_result"
        }
      ],
      "source": [
        "N.greet()     # you can call it without creating instance!"
      ]
    },
    {
      "cell_type": "code",
      "execution_count": 45,
      "metadata": {},
      "outputs": [
        {
          "name": "stdout",
          "output_type": "stream",
          "text": [
            "Addition result: 8\n",
            "Multiplication result: 8\n"
          ]
        }
      ],
      "source": [
        "class MathOperations:\n",
        "    @staticmethod\n",
        "    def add(a, b):\n",
        "        return a + b\n",
        "\n",
        "    @staticmethod\n",
        "    def multiply(a, b):\n",
        "        return a * b\n",
        "\n",
        "# Calling static methods without creating an instance\n",
        "result1 = MathOperations.add(5, 3)\n",
        "result2 = MathOperations.multiply(4, 2)\n",
        "\n",
        "print(f\"Addition result: {result1}\")\n",
        "print(f\"Multiplication result: {result2}\")"
      ]
    },
    {
      "cell_type": "code",
      "execution_count": 49,
      "metadata": {
        "colab": {
          "base_uri": "https://localhost:8080/"
        },
        "id": "RyBSvlKc_2cd",
        "outputId": "ce0edaff-cd91-4539-f49e-a27dafb72436"
      },
      "outputs": [
        {
          "name": "stdout",
          "output_type": "stream",
          "text": [
            "Hello\n"
          ]
        },
        {
          "data": {
            "text/plain": [
              "(16, 64, 2.0)"
            ]
          },
          "execution_count": 49,
          "metadata": {},
          "output_type": "execute_result"
        }
      ],
      "source": [
        "class TheCalculator:\n",
        "  @staticmethod\n",
        "  def greet():\n",
        "    print('Hello')\n",
        "    \n",
        "  def oper(self,num):\n",
        "    self.num=num\n",
        "    return (self.num **2, self.num **3, self.num **0.5)\n",
        "  \n",
        "t1=TheCalculator()\n",
        "t1.greet()\n",
        "t1.oper(4) \n"
      ]
    },
    {
      "cell_type": "code",
      "execution_count": 48,
      "metadata": {
        "colab": {
          "base_uri": "https://localhost:8080/"
        },
        "id": "UGpg8Rzh8dje",
        "outputId": "b17c25cb-ee6b-479e-c1d4-19908a5b506b"
      },
      "outputs": [
        {
          "name": "stdout",
          "output_type": "stream",
          "text": [
            "I am Nasir\n",
            "good morning\n",
            "I am Qasim\n",
            "good morning\n"
          ]
        }
      ],
      "source": [
        "class EmployeeList:\n",
        "\n",
        "  def data(self):\n",
        "    print(f\"I am {self.name}\")\n",
        "\n",
        "  @staticmethod\n",
        "  def greet():\n",
        "    print(\"good morning\")\n",
        "\n",
        "emp1=EmployeeList()\n",
        "emp2=EmployeeList()\n",
        "\n",
        "emp1.name='Nasir'\n",
        "emp2.name='Qasim'\n",
        "\n",
        "emp1.data()\n",
        "emp1.greet()\n",
        "emp2.data()\n",
        "emp2.greet()"
      ]
    }
  ],
  "metadata": {
    "colab": {
      "collapsed_sections": [],
      "name": "Classes&obj.ipynb",
      "provenance": []
    },
    "kernelspec": {
      "display_name": "Python 3",
      "name": "python3"
    },
    "language_info": {
      "codemirror_mode": {
        "name": "ipython",
        "version": 3
      },
      "file_extension": ".py",
      "mimetype": "text/x-python",
      "name": "python",
      "nbconvert_exporter": "python",
      "pygments_lexer": "ipython3",
      "version": "3.10.11"
    }
  },
  "nbformat": 4,
  "nbformat_minor": 0
}
