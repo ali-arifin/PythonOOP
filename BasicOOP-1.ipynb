{
 "cells": [
  {
   "cell_type": "markdown",
   "id": "16df8a3a",
   "metadata": {},
   "source": [
    "***Object Oriented Programming***"
   ]
  },
  {
   "cell_type": "markdown",
   "id": "cd23c865",
   "metadata": {},
   "source": [
    "**Pascal case:** CustomerName  --> class name should use pascal case\n",
    "\n",
    "**Camel case:** isUpper  --> object name should use camel case"
   ]
  },
  {
   "cell_type": "code",
   "execution_count": 1,
   "id": "643a3f14",
   "metadata": {},
   "outputs": [
    {
     "name": "stdout",
     "output_type": "stream",
     "text": [
      "name is AliArifin\n",
      "age is 24\n",
      "Allama Iqbal Railway Station\n",
      "name is Bilal\n",
      "age is 23\n",
      "Allama Iqbal Railway Station\n"
     ]
    }
   ],
   "source": [
    "class RailwayForm:\n",
    "  RailwayName='Allama Iqbal Railway Station'   # class attribute\n",
    "  \n",
    "  def data(self):                               \n",
    "    print(f\"name is {self.name}\")\n",
    "    print(f\"age is {self.age}\")\n",
    "\n",
    "aliForm=RailwayForm()\n",
    "bilalForm=RailwayForm()\n",
    "\n",
    "aliForm.name='AliArifin'        # object attribute\n",
    "aliForm.age=24                  # object attribute\n",
    "\n",
    "bilalForm.name='Bilal'          # object attribute\n",
    "bilalForm.age=23                # object attribute\n",
    "\n",
    "aliForm.data()\n",
    "print(aliForm.RailwayName)    # aliForm object has also class attribute\n",
    "\n",
    "bilalForm.data()\n",
    "print(bilalForm.RailwayName)  # bilalForm object has also class attribute                "
   ]
  },
  {
   "cell_type": "code",
   "execution_count": null,
   "id": "bc578c00",
   "metadata": {},
   "outputs": [
    {
     "name": "stdout",
     "output_type": "stream",
     "text": [
      "i am Ali\n"
     ]
    }
   ],
   "source": [
    "class Customer:\n",
    "  def identify(self, name):      #defining a method\n",
    "    print(f\"i am {name}\")\n",
    "\n",
    "cus1=Customer()                  #creating object\n",
    "cus1.identify(\"Ali\")             #self is not needed in method call"
   ]
  },
  {
   "cell_type": "code",
   "execution_count": 3,
   "id": "dbf6e60f",
   "metadata": {},
   "outputs": [
    {
     "name": "stdout",
     "output_type": "stream",
     "text": [
      "AliArifin\n"
     ]
    }
   ],
   "source": [
    "class TheCustomer:\n",
    "  def set_name(self, new_name):\n",
    "    #create an attribute by assigning a value\n",
    "    self.name=new_name     #creates .name when set_name is called\n",
    "\n",
    "c1=TheCustomer()           #.name doesn't exist yet \n",
    "c1.set_name('AliArifin')   #.name created and set to 'Arifin'\n",
    "print(c1.name)             #.name can be used"
   ]
  },
  {
   "cell_type": "code",
   "execution_count": 4,
   "id": "29879f03",
   "metadata": {},
   "outputs": [
    {
     "name": "stdout",
     "output_type": "stream",
     "text": [
      "I am customer Ali Arifin\n"
     ]
    }
   ],
   "source": [
    "class Customerr:\n",
    "  def set_name(self, new_name):\n",
    "    self.name=new_name\n",
    "  def identify(self):\n",
    "    print(f\"I am customer {self.name}\")\n",
    "\n",
    "C1=Customerr()\n",
    "C1.set_name('Ali Arifin') \n",
    "C1.identify()\n"
   ]
  },
  {
   "cell_type": "code",
   "execution_count": 5,
   "id": "6bbd251d",
   "metadata": {},
   "outputs": [
    {
     "name": "stdout",
     "output_type": "stream",
     "text": [
      "Youtube\n",
      "Facebook\n"
     ]
    }
   ],
   "source": [
    "class Employee:\n",
    "  CompanyName=\"Google\"\n",
    "ali=Employee()\n",
    "zain=Employee()\n",
    "ali.CompanyName='Youtube'          # object attributes are preferred \n",
    "zain.CompanyName='Facebook'\n",
    "\n",
    "print(ali.CompanyName)\n",
    "print(zain.CompanyName)"
   ]
  },
  {
   "cell_type": "markdown",
   "id": "77eb544e",
   "metadata": {},
   "source": [
    "**constructor**\n",
    "\n",
    "This method is automatically called when a new instance of a class is created."
   ]
  },
  {
   "cell_type": "code",
   "execution_count": 6,
   "id": "b67fd1a3",
   "metadata": {},
   "outputs": [
    {
     "name": "stdout",
     "output_type": "stream",
     "text": [
      "automatically runs without printing\n"
     ]
    }
   ],
   "source": [
    "class Name:\n",
    "  def __init__(self):   # constructor\n",
    "    print(\"automatically runs without printing\")\n",
    "e1=Name()"
   ]
  },
  {
   "cell_type": "code",
   "execution_count": 7,
   "id": "1aa6a371",
   "metadata": {},
   "outputs": [
    {
     "name": "stdout",
     "output_type": "stream",
     "text": [
      "auto run\n"
     ]
    }
   ],
   "source": [
    "class Names:\n",
    "  def __init__(self, name, salary, unit):   # constructor\n",
    "    self.name=name\n",
    "    self.salary=salary\n",
    "    self.unit=unit\n",
    "    print(\"auto run\")\n",
    "\n",
    "  def details(self):\n",
    "    print(f\"name is {self.name}\")\n",
    "    print(f\"salary is {self.salary}\")\n",
    "    print(f\"unit is {self.unit}\")\n",
    "\n",
    "e1=Names('Harry',100,'HR')         # initializing object e1, init function auto runs              "
   ]
  },
  {
   "cell_type": "code",
   "execution_count": 8,
   "id": "6658cec6",
   "metadata": {},
   "outputs": [
    {
     "name": "stdout",
     "output_type": "stream",
     "text": [
      "name is Harry\n",
      "salary is 100\n",
      "unit is HR\n"
     ]
    }
   ],
   "source": [
    "e1.details()        # applying details method on e1"
   ]
  },
  {
   "cell_type": "markdown",
   "id": "282dde08",
   "metadata": {},
   "source": [
    "**Task:** You are a Python developer writing a visualization package. For any element in a visualization, you want to be able to tell the position of the element, how far it is from other elements, and easily implement horizontal or vertical flip .\n",
    "\n",
    "The most basic element of any visualization is a single point. In this exercise, you'll write a class for a point on a plane from scratch."
   ]
  },
  {
   "cell_type": "code",
   "execution_count": 12,
   "id": "1a184041",
   "metadata": {},
   "outputs": [
    {
     "name": "stdout",
     "output_type": "stream",
     "text": [
      "(3.0, 4.0)\n",
      "(-3.0, 4.0)\n",
      "5.0\n"
     ]
    }
   ],
   "source": [
    "import math\n",
    "class Point:\n",
    "    def __init__(self, x=0.0, y=0.0):\n",
    "        self.x=x       #initializing attributes\n",
    "        self.y=y\n",
    "\n",
    "    def distance_to_origin(self):\n",
    "        return math.sqrt(self.x **2 + self.y **2)\n",
    "\n",
    "    def reflect(self,axis):\n",
    "        if axis =='x':\n",
    "            self.y=-self.y\n",
    "        elif axis=='y':\n",
    "            self.x=-self.x\n",
    "        else:\n",
    "            print(\"error\")\n",
    "\n",
    "pt1 = Point(x=3.0, y=4.0)\n",
    "print((pt1.x, pt1.y))\n",
    "pt1.reflect(\"y\")\n",
    "print((pt1.x, pt1.y))\n",
    "print(pt1.distance_to_origin())"
   ]
  },
  {
   "cell_type": "code",
   "execution_count": 13,
   "id": "0a9d7c8e",
   "metadata": {},
   "outputs": [
    {
     "name": "stdout",
     "output_type": "stream",
     "text": [
      "(6.0, 0.0)\n"
     ]
    }
   ],
   "source": [
    "pt2= Point(x=6.0)\n",
    "print((pt2.x, pt2.y))\n"
   ]
  }
 ],
 "metadata": {
  "kernelspec": {
   "display_name": "Python 3",
   "language": "python",
   "name": "python3"
  },
  "language_info": {
   "codemirror_mode": {
    "name": "ipython",
    "version": 3
   },
   "file_extension": ".py",
   "mimetype": "text/x-python",
   "name": "python",
   "nbconvert_exporter": "python",
   "pygments_lexer": "ipython3",
   "version": "3.10.11"
  }
 },
 "nbformat": 4,
 "nbformat_minor": 5
}
