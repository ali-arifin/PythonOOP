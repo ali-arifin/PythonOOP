{
 "cells": [
  {
   "cell_type": "markdown",
   "metadata": {},
   "source": [
    "**POLYMORPHISM**\n",
    "\n",
    "\"Polymorphism\" means \"many forms\", and in programming it refers to methods/functions/operators with the same name that can be executed on many objects or classes."
   ]
  },
  {
   "cell_type": "markdown",
   "metadata": {},
   "source": [
    "Function Polymorphism:\n",
    "\n",
    "An example of a Python function that can be used on different objects is the len() function"
   ]
  },
  {
   "cell_type": "code",
   "execution_count": 27,
   "metadata": {},
   "outputs": [
    {
     "name": "stdout",
     "output_type": "stream",
     "text": [
      "12\n",
      "3\n"
     ]
    }
   ],
   "source": [
    "a=\"Hello World!\"\n",
    "b=[1,2,4]\n",
    "\n",
    "print(len(a))\n",
    "print(len(b))"
   ]
  },
  {
   "cell_type": "markdown",
   "metadata": {},
   "source": [
    "Class Polymorphism:\n",
    "\n",
    "Polymorphism is often used in Class methods, where we can have multiple classes with the same method name."
   ]
  },
  {
   "cell_type": "code",
   "execution_count": null,
   "metadata": {},
   "outputs": [
    {
     "name": "stdout",
     "output_type": "stream",
     "text": [
      "Drive!\n",
      "Sail!\n"
     ]
    }
   ],
   "source": [
    "class Car:\n",
    "  def __init__(self, brand, model):\n",
    "    self.brand = brand\n",
    "    self.model = model\n",
    "\n",
    "  def move(self):\n",
    "    print(\"Drive!\")\n",
    "\n",
    "class Boat:\n",
    "  def __init__(self, brand, model):\n",
    "    self.brand = brand\n",
    "    self.model = model\n",
    "\n",
    "  def move(self):\n",
    "    print(\"Sail!\")\n",
    "\n",
    "\n",
    "car1 = Car(\"Ford\", \"Mustang\")        \n",
    "boat1 = Boat(\"Ibiza\", \"Touring 20\")   \n",
    "\n",
    "for x in (car1, boat1):\n",
    "  x.move()\n",
    "\n",
    "# Look at the for loop at the end. Because of polymorphism we can execute the same method for all three classes."
   ]
  },
  {
   "cell_type": "markdown",
   "metadata": {},
   "source": [
    "Inheritance Class Polymorphism:"
   ]
  },
  {
   "cell_type": "code",
   "execution_count": null,
   "metadata": {},
   "outputs": [
    {
     "name": "stdout",
     "output_type": "stream",
     "text": [
      "Ibiza\n",
      "Touring 20\n",
      "Sail!\n",
      "Boeing\n",
      "747\n",
      "Fly!\n"
     ]
    }
   ],
   "source": [
    "class Vehicle:\n",
    "  def __init__(self, brand, model):\n",
    "    self.brand = brand\n",
    "    self.model = model\n",
    "\n",
    "  def move(self):\n",
    "    print(\"Move!\")\n",
    "\n",
    "class Boat(Vehicle):\n",
    "  def move(self):\n",
    "    print(\"Sail!\")\n",
    "\n",
    "class Plane(Vehicle):\n",
    "  def move(self):\n",
    "    print(\"Fly!\")\n",
    "\n",
    "b1 = Boat(\"Ibiza\", \"Touring 20\") \n",
    "p1 = Plane(\"Boeing\", \"747\")    \n",
    "\n",
    "for x in (b1, p1):\n",
    "  print(x.brand)\n",
    "  print(x.model)\n",
    "  x.move()\n",
    "\n",
    "\n",
    "# The Boat and Plane classes inherit brand, model, and move() from Vehicle, but they both override the move() method.\n",
    "\n",
    "# Because of polymorphism we can execute the same method for all classes."
   ]
  },
  {
   "cell_type": "markdown",
   "metadata": {},
   "source": [
    "**Operator Overloading**"
   ]
  },
  {
   "cell_type": "code",
   "execution_count": 32,
   "metadata": {},
   "outputs": [
    {
     "name": "stdout",
     "output_type": "stream",
     "text": [
      "30\n"
     ]
    }
   ],
   "source": [
    "class Number:\n",
    "    def __init__(self, value):\n",
    "        self.value = value\n",
    "\n",
    "    def __add__(self, other):\n",
    "        return Number(self.value + other.value)\n",
    "\n",
    "    def __str__(self):\n",
    "        return f\"{self.value}\"\n",
    "\n",
    "n1 = Number(10)\n",
    "n2 = Number(20)\n",
    "\n",
    "n3 = n1 + n2\n",
    "\n",
    "print(n3) \n"
   ]
  },
  {
   "cell_type": "markdown",
   "metadata": {},
   "source": [
    "In Python, **str** and **repr** are methods that define how an object is represented as a string. They serve different purposes (**str** for general users, **repr** for developers)"
   ]
  },
  {
   "cell_type": "code",
   "execution_count": 33,
   "metadata": {},
   "outputs": [],
   "source": [
    "class Employee:\n",
    "    def __init__(self, name, salary):\n",
    "        self.name, self.salary = name, salary\n",
    "      \n",
    "    # Add the __str__method\n",
    "    def __str__(self):\n",
    "      return \"Employee name: {name}\\nEmployee salary: {salary}\".format(name=self.name, salary=self.salary)      \n",
    "       \n",
    "    # Add the __repr__method  \n",
    "    def __repr__(self):\n",
    "        return \"Employee(\\\"{name}\\\",{salary})\".format(name=self.name,salary=self.salary)\n",
    "\n",
    "\n",
    "emp = Employee(\"Alex Jon\", 30000)"
   ]
  },
  {
   "cell_type": "code",
   "execution_count": 34,
   "metadata": {},
   "outputs": [
    {
     "name": "stdout",
     "output_type": "stream",
     "text": [
      "Employee name: Alex Jon\n",
      "Employee salary: 30000\n"
     ]
    }
   ],
   "source": [
    "print(str(emp))"
   ]
  },
  {
   "cell_type": "code",
   "execution_count": 35,
   "metadata": {},
   "outputs": [
    {
     "name": "stdout",
     "output_type": "stream",
     "text": [
      "Employee(\"Alex Jon\",30000)\n"
     ]
    }
   ],
   "source": [
    "print(repr(emp))"
   ]
  },
  {
   "cell_type": "markdown",
   "metadata": {},
   "source": [
    "**Adding 2 objects**"
   ]
  },
  {
   "cell_type": "code",
   "execution_count": 37,
   "metadata": {},
   "outputs": [],
   "source": [
    "class Result:\n",
    "    def __init__(self,obt_marks,max_marks):\n",
    "        self.obt_marks=obt_marks\n",
    "        self.max_marks=max_marks\n",
    "    def __add__(self,other):\n",
    "        total_obt=self.obt_marks+other.obt_marks\n",
    "        total_max=self.max_marks+other.max_marks\n",
    "        r3=Result(total_obt,total_max)\n",
    "        return r3\n",
    "    def __str__(self):\n",
    "        return f\"Result({self.obt_marks},{self.max_marks})\""
   ]
  },
  {
   "cell_type": "code",
   "execution_count": 38,
   "metadata": {},
   "outputs": [],
   "source": [
    "r1=Result(45,50)"
   ]
  },
  {
   "cell_type": "code",
   "execution_count": 39,
   "metadata": {},
   "outputs": [],
   "source": [
    "r2=Result(44,50)"
   ]
  },
  {
   "cell_type": "code",
   "execution_count": 40,
   "metadata": {},
   "outputs": [
    {
     "name": "stdout",
     "output_type": "stream",
     "text": [
      "Result(89,100)\n"
     ]
    }
   ],
   "source": [
    "print(r1+r2)"
   ]
  },
  {
   "cell_type": "markdown",
   "metadata": {},
   "source": [
    "**ABSTRACTION**\n",
    "\n",
    "This involves hiding complex implementation details and showing only the necessary information to the user. Think of it like using a car - you don't need to know how the engine works to drive it."
   ]
  },
  {
   "cell_type": "markdown",
   "metadata": {},
   "source": [
    "In Python, abstraction is primarily achieved using abstract base classes (ABCs) from the abc module.\n",
    "\n",
    "Abstract Class: A class that cannot be instantiated directly and serves as a blueprint for other classes. It can contain both abstract methods and concrete methods.\n",
    "\n",
    "Abstract Method: A method declared in an abstract class without an implementation. Subclasses are required to provide their own concrete implementation for these methods."
   ]
  },
  {
   "cell_type": "code",
   "execution_count": 31,
   "metadata": {},
   "outputs": [
    {
     "name": "stdout",
     "output_type": "stream",
     "text": [
      "Driving on the road.\n",
      "Sailing on the water.\n"
     ]
    }
   ],
   "source": [
    "from abc import ABC, abstractmethod\n",
    "\n",
    "class Vehicle(ABC):  # Abstract Base Class\n",
    "    @abstractmethod\n",
    "    def move(self):\n",
    "        pass\n",
    "\n",
    "class Car(Vehicle):\n",
    "    def move(self):\n",
    "        print(\"Driving on the road.\")\n",
    "\n",
    "class Boat(Vehicle):\n",
    "    def move(self):\n",
    "        print(\"Sailing on the water.\")\n",
    "\n",
    "# car = Vehicle() # This would raise a TypeError as Vehicle is abstract\n",
    "\n",
    "my_car = Car()\n",
    "my_car.move()\n",
    "\n",
    "my_boat = Boat()\n",
    "my_boat.move()"
   ]
  }
 ],
 "metadata": {
  "kernelspec": {
   "display_name": "Python 3",
   "language": "python",
   "name": "python3"
  },
  "language_info": {
   "codemirror_mode": {
    "name": "ipython",
    "version": 3
   },
   "file_extension": ".py",
   "mimetype": "text/x-python",
   "name": "python",
   "nbconvert_exporter": "python",
   "pygments_lexer": "ipython3",
   "version": "3.10.11"
  },
  "orig_nbformat": 4
 },
 "nbformat": 4,
 "nbformat_minor": 2
}
