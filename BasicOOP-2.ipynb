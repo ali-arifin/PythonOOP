{
 "cells": [
  {
   "cell_type": "code",
   "execution_count": 2,
   "id": "12d4c935",
   "metadata": {},
   "outputs": [
    {
     "name": "stdout",
     "output_type": "stream",
     "text": [
      "name is Ali\n",
      "age is 24\n",
      "experience is Pro\n",
      "-------\n",
      "name is Alex\n",
      "age is 18\n",
      "experience is Pro Max\n"
     ]
    }
   ],
   "source": [
    "class Programmer:\n",
    "\n",
    "  Company='Microsoft'\n",
    "\n",
    "  def data(self):\n",
    "    print(f'name is {self.name}')\n",
    "    print(f'age is {self.age}')\n",
    "    print(f'experience is {self.exp}')\n",
    "\n",
    "employ1=Programmer()\n",
    "employ2=Programmer()\n",
    "\n",
    "\n",
    "employ1.name='Ali'\n",
    "employ1.age=24\n",
    "employ1.exp='Pro'\n",
    "\n",
    "employ2.name='Alex'\n",
    "employ2.age=18\n",
    "employ2.exp='Pro Max'\n",
    "\n",
    "employ1.data()\n",
    "print(\"-------\")\n",
    "employ2.data()"
   ]
  },
  {
   "cell_type": "code",
   "execution_count": 3,
   "id": "976c411f",
   "metadata": {},
   "outputs": [
    {
     "name": "stdout",
     "output_type": "stream",
     "text": [
      "name is Ali\n",
      "age is 24\n",
      "experience is Pro\n",
      "-------\n",
      "name is Alex\n",
      "age is 18\n",
      "experience is Pro Max\n"
     ]
    }
   ],
   "source": [
    "class Programmar:\n",
    "\n",
    "  Company='Microsoft'\n",
    "\n",
    "  def data(self,name,age,exp):\n",
    "    print(f'name is {name}')\n",
    "    print(f'age is {age}')\n",
    "    print(f'experience is {exp}')\n",
    "\n",
    "employ1=Programmar()\n",
    "employ2=Programmar()\n",
    "\n",
    "employ1.data('Ali',24,'Pro')\n",
    "print(\"-------\")\n",
    "employ2.data('Alex',18,'Pro Max')\n"
   ]
  },
  {
   "cell_type": "code",
   "execution_count": 5,
   "id": "5dd70dbf",
   "metadata": {},
   "outputs": [
    {
     "name": "stdout",
     "output_type": "stream",
     "text": [
      "attributes initialized\n"
     ]
    }
   ],
   "source": [
    "class Developer:\n",
    "  def __init__(self, name, age, exp):   #constructor\n",
    "    self.name=name\n",
    "    self.age=age\n",
    "    self.exp=exp\n",
    "    print(\"attributes initialized\")\n",
    "  def details(self):\n",
    "    print(f\"name is {self.name}\")\n",
    "    print(f\"age is {self.age}\")\n",
    "    print(f\"experience is {self.exp}\")\n",
    "\n",
    "e1=Developer('Harry',19,'Pro')"
   ]
  },
  {
   "cell_type": "code",
   "execution_count": 6,
   "id": "4feece3d",
   "metadata": {},
   "outputs": [
    {
     "name": "stdout",
     "output_type": "stream",
     "text": [
      "name is Harry\n",
      "age is 19\n",
      "experience is Pro\n"
     ]
    }
   ],
   "source": [
    "e1.details()"
   ]
  },
  {
   "cell_type": "code",
   "execution_count": 10,
   "id": "b7c367db",
   "metadata": {},
   "outputs": [
    {
     "name": "stdout",
     "output_type": "stream",
     "text": [
      "name is Harry\n",
      "age is 19\n",
      "experience is Pro\n",
      "\n",
      "name is Ali\n",
      "age is 23\n",
      "experience is Pro Max\n",
      "\n"
     ]
    }
   ],
   "source": [
    "class Coder:\n",
    "  def __init__(self, name, age, exp):  \n",
    "    self.name=name\n",
    "    self.age=age\n",
    "    self.exp=exp\n",
    "    print(f\"name is {self.name}\")\n",
    "    print(f\"age is {self.age}\")\n",
    "    print(f\"experience is {self.exp}\",end='\\n\\n')\n",
    "\n",
    "e1=Coder('Harry',19,'Pro')\n",
    "e2=Coder('Ali',23,'Pro Max')                         "
   ]
  },
  {
   "cell_type": "code",
   "execution_count": 18,
   "id": "3ac9382d",
   "metadata": {},
   "outputs": [
    {
     "name": "stdout",
     "output_type": "stream",
     "text": [
      "Ali ticket is booked\n",
      "seats available: 09\n",
      "fare rate: Rs.2300\n"
     ]
    }
   ],
   "source": [
    "class Train:\n",
    "  \n",
    "  def __init__(self,name):\n",
    "    self.book = f'{name} ticket is booked'\n",
    "    print(self.book)\n",
    "  def status(self):\n",
    "    print(\"seats available: 09\")\n",
    "  def fare(self):\n",
    "    print('fare rate: Rs.2300')\n",
    "\n",
    "cus1=Train('Ali') \n",
    "cus1.status()\n",
    "cus1.fare()"
   ]
  },
  {
   "cell_type": "code",
   "execution_count": 35,
   "id": "def0fa1d",
   "metadata": {},
   "outputs": [],
   "source": [
    "class TrainWebsite:\n",
    "  \n",
    "  def __init__(self,name,seats,fare):\n",
    "    self.name=name\n",
    "    self.seats=seats\n",
    "    self.fare=fare\n",
    "  def data(self):\n",
    "    print(f'Train Name: {self.name} \\nSeats Available: {self.seats} \\nFare Rate: {self.fare} \\nSeat No. {self.seats}')\n",
    "    self.seats = self.seats - 1\n",
    "\n",
    "karakoram=TrainWebsite('KarakoramXpress',50,2500)"
   ]
  },
  {
   "cell_type": "code",
   "execution_count": 36,
   "id": "cd85ce37",
   "metadata": {},
   "outputs": [
    {
     "name": "stdout",
     "output_type": "stream",
     "text": [
      "Train Name: KarakoramXpress \n",
      "Seats Available: 50 \n",
      "Fare Rate: 2500 \n",
      "Seat No. 50\n"
     ]
    }
   ],
   "source": [
    "karakoram.data()"
   ]
  },
  {
   "cell_type": "code",
   "execution_count": 37,
   "id": "da5de951",
   "metadata": {},
   "outputs": [
    {
     "name": "stdout",
     "output_type": "stream",
     "text": [
      "Train Name: KarakoramXpress \n",
      "Seats Available: 49 \n",
      "Fare Rate: 2500 \n",
      "Seat No. 49\n"
     ]
    }
   ],
   "source": [
    "karakoram.data()"
   ]
  },
  {
   "cell_type": "code",
   "execution_count": 38,
   "id": "e4e644ed",
   "metadata": {},
   "outputs": [
    {
     "name": "stdout",
     "output_type": "stream",
     "text": [
      "Train Name: KarakoramXpress \n",
      "Seats Available: 48 \n",
      "Fare Rate: 2500 \n",
      "Seat No. 48\n"
     ]
    }
   ],
   "source": [
    "karakoram.data()"
   ]
  },
  {
   "cell_type": "code",
   "execution_count": 14,
   "id": "f6866996",
   "metadata": {},
   "outputs": [
    {
     "name": "stdout",
     "output_type": "stream",
     "text": [
      "69\n",
      "0\n"
     ]
    }
   ],
   "source": [
    "class MyClass:\n",
    "  a=69                # class variable\n",
    "x1=MyClass()\n",
    "print(x1.a)\n",
    "x1.a=0                # instance variable overrides class variable\n",
    "print(x1.a)  "
   ]
  },
  {
   "cell_type": "code",
   "execution_count": 15,
   "id": "f825cd0a",
   "metadata": {},
   "outputs": [
    {
     "name": "stdout",
     "output_type": "stream",
     "text": [
      "69\n"
     ]
    }
   ],
   "source": [
    "print(MyClass.a)     # The class variable MyClass.a still exists and is unchanged."
   ]
  }
 ],
 "metadata": {
  "kernelspec": {
   "display_name": "Python 3",
   "language": "python",
   "name": "python3"
  },
  "language_info": {
   "codemirror_mode": {
    "name": "ipython",
    "version": 3
   },
   "file_extension": ".py",
   "mimetype": "text/x-python",
   "name": "python",
   "nbconvert_exporter": "python",
   "pygments_lexer": "ipython3",
   "version": "3.10.11"
  }
 },
 "nbformat": 4,
 "nbformat_minor": 5
}
