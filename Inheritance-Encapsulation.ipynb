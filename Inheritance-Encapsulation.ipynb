{
  "cells": [
    {
      "cell_type": "markdown",
      "metadata": {},
      "source": [
        "**INHERITANCE**\n",
        "\n",
        "Inheritance allows a new class (child class) to inherit properties and behaviors from an existing class (parent class), promoting code reuse and reducing redundancy"
      ]
    },
    {
      "cell_type": "code",
      "execution_count": 1,
      "metadata": {},
      "outputs": [],
      "source": [
        "class Human:\n",
        "    def __init__(self,name,age,nationality):\n",
        "        self.name=name\n",
        "        self.age=age\n",
        "        self.nationality=nationality\n",
        "    def walk(self):\n",
        "        print('walking...')\n",
        "    def eating(self):\n",
        "        print('eating...')"
      ]
    },
    {
      "cell_type": "markdown",
      "metadata": {},
      "source": [
        "**Inheritance with super()**\n",
        "\n",
        "super() is a built-in function that provides a way to access methods and attributes of a parent class (also known as a superclass) from within a child class (subclass)"
      ]
    },
    {
      "cell_type": "code",
      "execution_count": 2,
      "metadata": {},
      "outputs": [],
      "source": [
        "class Student(Human):\n",
        "    def __init__(self,name,age,nationality,university):\n",
        "        super().__init__(name,age,nationality)\n",
        "        self.university=university\n",
        "    def study(self):\n",
        "        print('studying...')"
      ]
    },
    {
      "cell_type": "code",
      "execution_count": 3,
      "metadata": {},
      "outputs": [],
      "source": [
        "s1=Student('Ali',24,'PAK','NUST')"
      ]
    },
    {
      "cell_type": "code",
      "execution_count": 4,
      "metadata": {},
      "outputs": [
        {
          "data": {
            "text/plain": [
              "'Ali'"
            ]
          },
          "execution_count": 4,
          "metadata": {},
          "output_type": "execute_result"
        }
      ],
      "source": [
        "s1.name"
      ]
    },
    {
      "cell_type": "code",
      "execution_count": 5,
      "metadata": {},
      "outputs": [
        {
          "data": {
            "text/plain": [
              "24"
            ]
          },
          "execution_count": 5,
          "metadata": {},
          "output_type": "execute_result"
        }
      ],
      "source": [
        "s1.age"
      ]
    },
    {
      "cell_type": "markdown",
      "metadata": {},
      "source": [
        "**Relationship between parent and child class**"
      ]
    },
    {
      "cell_type": "code",
      "execution_count": 11,
      "metadata": {},
      "outputs": [
        {
          "name": "stdout",
          "output_type": "stream",
          "text": [
            "Hello I'm Class A\n",
            "Hello I'm Class B\n"
          ]
        }
      ],
      "source": [
        "class ClassA:\n",
        "  textA=\"Hello I'm Class A\"\n",
        "\n",
        "class ClassB(ClassA):                 # B inherits A\n",
        "  textB=\"Hello I'm Class B\"\n",
        "\n",
        "b1=ClassB()\n",
        "print(b1.textA)\n",
        "print(b1.textB)"
      ]
    },
    {
      "cell_type": "code",
      "execution_count": 7,
      "metadata": {},
      "outputs": [
        {
          "name": "stdout",
          "output_type": "stream",
          "text": [
            "Hello I'm Class B\n"
          ]
        }
      ],
      "source": [
        "class ClassA:\n",
        "  text=\"Hello I'm Class A\"\n",
        "\n",
        "class ClassB(ClassA):                 # B inherits A\n",
        "  text=\"Hello I'm Class B\"            # over-writes ClassA\n",
        "\n",
        "b1=ClassB()\n",
        "print(b1.text)"
      ]
    },
    {
      "cell_type": "code",
      "execution_count": 8,
      "metadata": {
        "colab": {
          "base_uri": "https://localhost:8080/"
        },
        "id": "En6dYtBMJ7fo",
        "outputId": "8ce43f59-5afe-40d7-8783-c33e9d27a00c"
      },
      "outputs": [
        {
          "name": "stdout",
          "output_type": "stream",
          "text": [
            "Hello I'm Class A\n",
            "Hello I'm Class B\n"
          ]
        }
      ],
      "source": [
        "class ClassA:\n",
        "  textA=\"Hello I'm Class A\"\n",
        "  \n",
        "  def A_details(self):\n",
        "    print(self.textA)\n",
        "\n",
        "\n",
        "class ClassB(ClassA):                 # B inherits A\n",
        "  textB=\"Hello I'm Class B\"\n",
        "\n",
        "  def B_details(self):              \n",
        "    print(self.textB)\n",
        "\n",
        "b1=ClassB()\n",
        "b1.A_details()\n",
        "b1.B_details()"
      ]
    },
    {
      "cell_type": "code",
      "execution_count": 9,
      "metadata": {
        "colab": {
          "base_uri": "https://localhost:8080/"
        },
        "id": "gSMV6g7geOsi",
        "outputId": "60c1effe-102d-4e6d-aa54-1becfb47e9e6"
      },
      "outputs": [
        {
          "name": "stdout",
          "output_type": "stream",
          "text": [
            "Hello I'm Class B\n"
          ]
        }
      ],
      "source": [
        "class ClassA:\n",
        "  textA=\"Hello I'm Class A\"\n",
        "  \n",
        "  def showdetail(self):\n",
        "    print(self.textA)\n",
        "\n",
        "\n",
        "class ClassB(ClassA):                 # B inherits A\n",
        "  textB=\"Hello I'm Class B\"\n",
        "\n",
        "  def showdetail(self):               # over-writes the method of ClassA\n",
        "    print(self.textB)\n",
        "\n",
        "b1=ClassB()\n",
        "\n",
        "b1.showdetail()"
      ]
    },
    {
      "cell_type": "code",
      "execution_count": 10,
      "metadata": {
        "colab": {
          "base_uri": "https://localhost:8080/"
        },
        "id": "uPD7vg-yetaL",
        "outputId": "0aa53509-09c5-486c-e256-aef594b21bc9"
      },
      "outputs": [
        {
          "name": "stdout",
          "output_type": "stream",
          "text": [
            "40\n",
            "37\n",
            "10\n"
          ]
        }
      ],
      "source": [
        "class Father:\n",
        "  f_name='Alex'\n",
        "  f_age=40\n",
        "class Mother:\n",
        "  m_name='Mary'\n",
        "  m_age=37\n",
        "class Child(Father,Mother):\n",
        "  c_name='John'\n",
        "  c_age=10\n",
        "\n",
        "c=Child()\n",
        "\n",
        "print(c.f_age)\n",
        "print(c.m_age)\n",
        "print(c.c_age)"
      ]
    },
    {
      "cell_type": "code",
      "execution_count": 12,
      "metadata": {
        "colab": {
          "base_uri": "https://localhost:8080/"
        },
        "id": "F7SOrg-jg3l6",
        "outputId": "6c98f1f1-7471-41bc-8539-7c7a846edb61"
      },
      "outputs": [
        {
          "name": "stdout",
          "output_type": "stream",
          "text": [
            "this person is alive\n",
            "this employee is alive\n",
            "this programmer is alive\n"
          ]
        }
      ],
      "source": [
        "class Person:\n",
        "  def alive(self):\n",
        "    print(\"this person is alive\")\n",
        "\n",
        "class Employee(Person):\n",
        "  def alive(self):\n",
        "    super().alive()\n",
        "    print(\"this employee is alive\")\n",
        "\n",
        "class Programmer(Employee):\n",
        "  def alive(self):\n",
        "    super().alive()\n",
        "    print(\"this programmer is alive\")\n",
        "\n",
        "pr=Programmer()\n",
        "\n",
        "pr.alive()"
      ]
    },
    {
      "cell_type": "code",
      "execution_count": 14,
      "metadata": {
        "colab": {
          "base_uri": "https://localhost:8080/"
        },
        "id": "PLiLMLz-ySDu",
        "outputId": "09c8fc75-4fd3-42bc-a24c-ab29584d5a02"
      },
      "outputs": [
        {
          "name": "stdout",
          "output_type": "stream",
          "text": [
            "initializing person\n",
            "initializing employee\n",
            "initializing programmer\n"
          ]
        }
      ],
      "source": [
        "class Person:\n",
        "  def __init__(self):\n",
        "    print(\"initializing person\") \n",
        "\n",
        "class Employee(Person):\n",
        "  def __init__(self):\n",
        "    super().__init__()\n",
        "    print(\"initializing employee\") \n",
        "\n",
        "class Programmer(Employee):\n",
        "  def __init__(self):\n",
        "    super().__init__()\n",
        "    print(\"initializing programmer\")\n",
        "\n",
        "p=Programmer()"
      ]
    },
    {
      "cell_type": "markdown",
      "metadata": {},
      "source": [
        "**ENCAPSULATION**\n",
        "\n",
        "It involves bundling data and the methods that operate on that data within a single unit (a class) and restricting direct access to the internal state of an object. \n",
        "\n",
        "The goal is to hide the implementation details and expose only a controlled interface for interacting with the object's data"
      ]
    },
    {
      "cell_type": "markdown",
      "metadata": {},
      "source": [
        "A **\"getter and setter\"** are methods used to access and update the attributes of a class. \n",
        "\n",
        "These methods provide a way to define controlled access to the attributes of an object, ensuring the integrity of the data. \n",
        "\n",
        "**Getter:** The getter method is used to retrieve the value of a private attribute. It allows controlled access to the attribute.\n",
        "\n",
        "**Setter:** The setter method is used to set or modify the value of a private attribute. It allows you to control how the value is updated, enabling validation or modification of the data before it’s actually assigned."
      ]
    },
    {
      "cell_type": "code",
      "execution_count": 72,
      "metadata": {},
      "outputs": [],
      "source": [
        "class Students:\n",
        "    def __init__(self,name,course,institute):\n",
        "        self.name=name\n",
        "        self.course=course\n",
        "        self.institute=institute\n",
        "    def getName(self):\n",
        "        return self.name\n",
        "    def setName(self,new_name):\n",
        "        self.name=new_name\n",
        "        print(f\"new name {new_name} has been set\")"
      ]
    },
    {
      "cell_type": "code",
      "execution_count": 73,
      "metadata": {},
      "outputs": [],
      "source": [
        "s1=Students('Ali Arifin','OOP','NUST')"
      ]
    },
    {
      "cell_type": "code",
      "execution_count": 74,
      "metadata": {},
      "outputs": [
        {
          "data": {
            "text/plain": [
              "'Ali Arifin'"
            ]
          },
          "execution_count": 74,
          "metadata": {},
          "output_type": "execute_result"
        }
      ],
      "source": [
        "s1.getName()"
      ]
    },
    {
      "cell_type": "code",
      "execution_count": 75,
      "metadata": {},
      "outputs": [
        {
          "name": "stdout",
          "output_type": "stream",
          "text": [
            "new name Alex Jon has been set\n"
          ]
        }
      ],
      "source": [
        "s1.setName('Alex Jon')"
      ]
    },
    {
      "cell_type": "code",
      "execution_count": 76,
      "metadata": {},
      "outputs": [
        {
          "data": {
            "text/plain": [
              "'Alex Jon'"
            ]
          },
          "execution_count": 76,
          "metadata": {},
          "output_type": "execute_result"
        }
      ],
      "source": [
        "s1.getName()"
      ]
    },
    {
      "cell_type": "code",
      "execution_count": 61,
      "metadata": {
        "colab": {
          "base_uri": "https://localhost:8080/"
        },
        "id": "CdF78ruu1DoW",
        "outputId": "e63dbe2e-fc99-4fce-eae0-2f7011018550"
      },
      "outputs": [
        {
          "name": "stdout",
          "output_type": "stream",
          "text": [
            "Alex\n",
            "6500\n",
            "101\n"
          ]
        }
      ],
      "source": [
        "class Employee:\n",
        "  def __init__(self,name,salary):\n",
        "    self.name=name\n",
        "    self.salary=salary\n",
        "\n",
        "  def change_salary(self,val):            # this is setter method    \n",
        "    self.salary=val\n",
        "\n",
        "e=Employee('Alex',6500)\n",
        "print(e.name)\n",
        "print(e.salary)\n",
        "e.change_salary(101)\n",
        "print(e.salary)"
      ]
    },
    {
      "cell_type": "code",
      "execution_count": 62,
      "metadata": {},
      "outputs": [
        {
          "data": {
            "text/plain": [
              "['__class__',\n",
              " '__delattr__',\n",
              " '__dict__',\n",
              " '__dir__',\n",
              " '__doc__',\n",
              " '__eq__',\n",
              " '__format__',\n",
              " '__ge__',\n",
              " '__getattribute__',\n",
              " '__gt__',\n",
              " '__hash__',\n",
              " '__init__',\n",
              " '__init_subclass__',\n",
              " '__le__',\n",
              " '__lt__',\n",
              " '__module__',\n",
              " '__ne__',\n",
              " '__new__',\n",
              " '__reduce__',\n",
              " '__reduce_ex__',\n",
              " '__repr__',\n",
              " '__setattr__',\n",
              " '__sizeof__',\n",
              " '__str__',\n",
              " '__subclasshook__',\n",
              " '__weakref__',\n",
              " 'change_salary',\n",
              " 'name',\n",
              " 'salary']"
            ]
          },
          "execution_count": 62,
          "metadata": {},
          "output_type": "execute_result"
        }
      ],
      "source": [
        "dir(e)"
      ]
    },
    {
      "cell_type": "markdown",
      "metadata": {},
      "source": [
        "The **@property** decorator in Python is a built-in decorator that allows you to define methods within a class that can be accessed like attributes"
      ]
    },
    {
      "cell_type": "code",
      "execution_count": 16,
      "metadata": {},
      "outputs": [
        {
          "name": "stdout",
          "output_type": "stream",
          "text": [
            "6000\n"
          ]
        }
      ],
      "source": [
        "class Employee:\n",
        "  def __init__(self,name,salary,bonus):\n",
        "    self.name=name\n",
        "    self.salary=salary\n",
        "    self.bonus=bonus\n",
        "\n",
        "  @property \n",
        "  def total_salary(self):\n",
        "    return self.salary+self.bonus\n",
        "  \n",
        "e=Employee('Ali',5000,1000)\n",
        "print(e.total_salary)"
      ]
    },
    {
      "cell_type": "markdown",
      "metadata": {},
      "source": [
        "**setter method for changing instance attribute**"
      ]
    },
    {
      "cell_type": "code",
      "execution_count": 17,
      "metadata": {},
      "outputs": [
        {
          "name": "stdout",
          "output_type": "stream",
          "text": [
            "Ali\n",
            "24\n",
            "Microsoft\n",
            "Google\n",
            "Microsoft\n"
          ]
        }
      ],
      "source": [
        "class Programmer:\n",
        "  Company='Microsoft'\n",
        "\n",
        "  def __init__(self,name,age):\n",
        "    self.name=name\n",
        "    self.age=age\n",
        "  \n",
        "  def change_company(self,val):     # setter method for changing instance attribute\n",
        "    self.Company=val\n",
        "\n",
        "\n",
        "p=Programmer('Ali', 24)\n",
        "print(p.name)\n",
        "print(p.age)\n",
        "print(p.Company)\n",
        "p.change_company('Google')\n",
        "print(p.Company)\n",
        "print(Programmer.Company)           # note that class attribute did not change"
      ]
    },
    {
      "cell_type": "markdown",
      "metadata": {},
      "source": [
        "**setter method for changing class attribute**"
      ]
    },
    {
      "cell_type": "code",
      "execution_count": 18,
      "metadata": {},
      "outputs": [
        {
          "name": "stdout",
          "output_type": "stream",
          "text": [
            "Ali\n",
            "24\n",
            "Microsoft\n",
            "Google\n",
            "Google\n"
          ]
        }
      ],
      "source": [
        "class Programmer:\n",
        "  Company='Microsoft'\n",
        "\n",
        "  def __init__(self,name,age):\n",
        "    self.name=name\n",
        "    self.age=age\n",
        "  \n",
        "  def change_company(self,val):     # setter method for changing class attribute\n",
        "    self.__class__.Company=val\n",
        "\n",
        "\n",
        "p=Programmer('Ali', 24)\n",
        "print(p.name)\n",
        "print(p.age)\n",
        "print(p.Company)\n",
        "p.change_company('Google')\n",
        "print(p.Company)\n",
        "print(Programmer.Company)     "
      ]
    },
    {
      "cell_type": "markdown",
      "metadata": {},
      "source": [
        "**class methods** receive cls (the class itself) as their first argument. This allows them to access and modify class-level attributes\n",
        "\n",
        "Class methods can be called directly on the class itself, without needing to create an instance of the class."
      ]
    },
    {
      "cell_type": "code",
      "execution_count": 19,
      "metadata": {
        "colab": {
          "base_uri": "https://localhost:8080/"
        },
        "id": "KzbzBKd82FdN",
        "outputId": "f69ea8cc-50c7-470a-faa9-58dd779cb53f"
      },
      "outputs": [
        {
          "name": "stdout",
          "output_type": "stream",
          "text": [
            "109\n"
          ]
        }
      ],
      "source": [
        "class Employee:\n",
        "  name='Ali'\n",
        "  salary=100\n",
        "  age=24\n",
        "\n",
        "  @classmethod\n",
        "  def change_salary(cls,val):\n",
        "    cls.salary=val\n",
        "\n",
        "Employee.change_salary(109)\n",
        "print(Employee.salary)    "
      ]
    },
    {
      "cell_type": "markdown",
      "metadata": {
        "id": "I1Dpdf71W1_N"
      },
      "source": [
        "Task: \n",
        "\n",
        "you are developing a time series package and want to define your own class for working with dates, BetterDate. The attributes of the class will be year, month, and day. You want to have a constructor that creates BetterDate objects given the values for year, month, and day, but you also want to be able to create BetterDate objects from strings like 2020-04-30"
      ]
    },
    {
      "cell_type": "code",
      "execution_count": 20,
      "metadata": {
        "colab": {
          "base_uri": "https://localhost:8080/"
        },
        "id": "Rd6NY9aMLzRj",
        "outputId": "27f75d5b-2681-432b-92f3-81a0db51120b"
      },
      "outputs": [
        {
          "name": "stdout",
          "output_type": "stream",
          "text": [
            "2020\n",
            "4\n",
            "30\n"
          ]
        }
      ],
      "source": [
        "class BetterDate:\n",
        "    \n",
        "    def __init__(self, year, month, day):\n",
        "      \n",
        "      self.year, self.month, self.day = year, month, day\n",
        "    \n",
        "    @classmethod\n",
        "    def from_str(cls, datestr):\n",
        "        # Split the string at \"-\" and  convert each part to integer\n",
        "        datelist = datestr.split(\"-\")\n",
        "        year, month, day = int(datelist[0]), int(datelist[1]), int(datelist[2])\n",
        "    \n",
        "        # returns an instance of the class with the attributes set to the values extracted from datestr.\n",
        "        return cls(year, month, day)\n",
        "        \n",
        "bd = BetterDate.from_str('2020-04-30')   \n",
        "print(bd.year)\n",
        "print(bd.month)\n",
        "print(bd.day)\n"
      ]
    },
    {
      "cell_type": "code",
      "execution_count": 21,
      "metadata": {
        "colab": {
          "base_uri": "https://localhost:8080/"
        },
        "id": "hOBoBza7VUAZ",
        "outputId": "335db33e-72ef-417c-de9b-08a053ecddb7"
      },
      "outputs": [
        {
          "name": "stdout",
          "output_type": "stream",
          "text": [
            "2020\n",
            "4\n",
            "30\n"
          ]
        }
      ],
      "source": [
        "class BetterDate:\n",
        "    \n",
        "    def __init__(self, year, month, day):\n",
        "      \n",
        "      self.year, self.month, self.day = year, month, day\n",
        "    \n",
        "    @classmethod\n",
        "    def from_str(cls, datestr):\n",
        "        # Split the string at \"-\" and  convert each part to integer\n",
        "        datelist = datestr.split(\"-\")\n",
        "        year, month, day = map(int,datelist)\n",
        "    \n",
        "        # Return the class instance\n",
        "        return cls(year, month, day)\n",
        "        \n",
        "bd = BetterDate.from_str('2020-04-30')   \n",
        "print(bd.year)\n",
        "print(bd.month)\n",
        "print(bd.day)\n"
      ]
    },
    {
      "cell_type": "markdown",
      "metadata": {},
      "source": [
        "Define a class method accepting a datetime object"
      ]
    },
    {
      "cell_type": "code",
      "execution_count": 22,
      "metadata": {
        "colab": {
          "base_uri": "https://localhost:8080/"
        },
        "id": "jXSq6MoMKSud",
        "outputId": "46e34f92-5b41-4fc5-dea1-fd402695d5d6"
      },
      "outputs": [
        {
          "name": "stdout",
          "output_type": "stream",
          "text": [
            "2025-08-08 15:38:46.234676\n",
            "<class 'datetime.datetime'>\n",
            "2025 8 8 15\n"
          ]
        }
      ],
      "source": [
        "from datetime import datetime\n",
        "a=datetime.today()\n",
        "print(a)\n",
        "print(type(a))\n",
        "print(a.year, a.month, a.day, a.hour)     "
      ]
    },
    {
      "cell_type": "code",
      "execution_count": 23,
      "metadata": {
        "colab": {
          "base_uri": "https://localhost:8080/"
        },
        "id": "Golfc0BHLhh1",
        "outputId": "be2fe8b0-9995-415e-b52a-fb9861d99c41"
      },
      "outputs": [
        {
          "name": "stdout",
          "output_type": "stream",
          "text": [
            "2025-08-08 15:38:53.426810\n",
            "2025\n",
            "8\n",
            "8\n"
          ]
        }
      ],
      "source": [
        "from datetime import datetime\n",
        "\n",
        "class BetterDate:\n",
        "    def __init__(self, year, month, day):\n",
        "      self.year, self.month, self.day = year, month, day\n",
        "      \n",
        "    @classmethod\n",
        "    def from_str(cls, datestr):\n",
        "        year, month, day = map(int, datestr.split(\"-\"))\n",
        "        return cls(year, month, day)\n",
        "      \n",
        "    # Define a class method from_datetime accepting a datetime object\n",
        "    @classmethod\n",
        "    def from_datetime(cls, dateobj):\n",
        "      year, month, day = dateobj.year, dateobj.month, dateobj.day\n",
        "      return cls(year, month, day) \n",
        "\n",
        "today = datetime.today()    \n",
        "print(today) \n",
        "bd = BetterDate.from_datetime(today)   \n",
        "print(bd.year)\n",
        "print(bd.month)\n",
        "print(bd.day)"
      ]
    },
    {
      "cell_type": "markdown",
      "metadata": {},
      "source": [
        "**isinstance()** is a built-in Python function used to check if an object is an instance of a specified class or a subclass of that class. It returns True if the object is an instance of the given class or any of its subclasses, and False otherwise\n",
        "\n",
        "isinstance(object, classinfo)"
      ]
    },
    {
      "cell_type": "code",
      "execution_count": 24,
      "metadata": {
        "colab": {
          "base_uri": "https://localhost:8080/"
        },
        "id": "Vcw-Rg4zjUBz",
        "outputId": "416e7d69-f80e-46a4-f236-b3ddccb5eb51"
      },
      "outputs": [
        {
          "name": "stdout",
          "output_type": "stream",
          "text": [
            "True\n",
            "False\n"
          ]
        }
      ],
      "source": [
        "class Counter:\n",
        "   pass\n",
        "\n",
        "class Indexer(Counter):\n",
        "   pass\n",
        "\n",
        "ind=Indexer()\n",
        "count=Counter()\n",
        "print(isinstance(ind,Counter))       \n",
        "print(isinstance(count,Indexer))"
      ]
    },
    {
      "cell_type": "code",
      "execution_count": 36,
      "metadata": {
        "colab": {
          "base_uri": "https://localhost:8080/"
        },
        "id": "covdMwxD0eOr",
        "outputId": "d0d4390f-a6a6-4081-b404-1703fe9f9917"
      },
      "outputs": [
        {
          "name": "stdout",
          "output_type": "stream",
          "text": [
            "amount withdrawn is 3000\n",
            "remaining balance is 2000\n"
          ]
        }
      ],
      "source": [
        "class BankAccount:\n",
        "\n",
        "    def __init__(self, acc_number, balance=0):\n",
        "        self.balance = balance\n",
        "        self.acc_number = acc_number\n",
        "      \n",
        "    def withdraw(self, amount):\n",
        "        self.balance -= amount \n",
        "        print(f'amount withdrawn is {amount}')\n",
        "    \n",
        "    def result(self):\n",
        "      print(f'remaining balance is {self.balance}')\n",
        "      \n",
        "a=BankAccount(123,5000)\n",
        "a.withdraw(3000)\n",
        "a.result()"
      ]
    },
    {
      "cell_type": "code",
      "execution_count": 40,
      "metadata": {
        "colab": {
          "base_uri": "https://localhost:8080/"
        },
        "id": "sY8qiFpx78ss",
        "outputId": "8abd6ee7-33ad-4527-f1d2-df2289beea41"
      },
      "outputs": [
        {
          "name": "stdout",
          "output_type": "stream",
          "text": [
            "True\n",
            "False\n",
            "False\n"
          ]
        }
      ],
      "source": [
        "class BankAccount:\n",
        " \n",
        "    def __init__(self, acc_number, balance=0):\n",
        "        self.balance = balance\n",
        "        self.acc_number = acc_number\n",
        "      \n",
        "    def withdraw(self, amount):\n",
        "        self.balance -= amount \n",
        "    \n",
        "    # Define __eq__ method that returns True if the number attributes are equal \n",
        "    def __eq__(self, other):\n",
        "        return self.acc_number == other.acc_number   \n",
        "      \n",
        "acct1 = BankAccount(123, 1000)\n",
        "acct2 = BankAccount(123, 1000)\n",
        "acct3 = BankAccount(456, 1000)\n",
        "print(acct1 == acct2)\n",
        "print(acct1 == acct3)\n",
        "print(acct2==acct3)\n",
        "    "
      ]
    },
    {
      "cell_type": "markdown",
      "metadata": {},
      "source": [
        "**creating custom exception class**"
      ]
    },
    {
      "cell_type": "code",
      "execution_count": 56,
      "metadata": {
        "colab": {
          "base_uri": "https://localhost:8080/"
        },
        "id": "GnK_pEoEObUX",
        "outputId": "0cf37611-cdae-40e2-ae6b-0f2062432803"
      },
      "outputs": [],
      "source": [
        "class SalaryError(ValueError): pass\n",
        "\n",
        "class Employee:\n",
        "  MIN_SALARY = 30000\n",
        "  \n",
        "  def __init__(self, name, salary):\n",
        "    self.name = name    \n",
        "    if salary < Employee.MIN_SALARY:\n",
        "      raise SalaryError(\"Salary is too low!\")      \n",
        "    self.salary = salary"
      ]
    },
    {
      "cell_type": "code",
      "execution_count": 57,
      "metadata": {},
      "outputs": [],
      "source": [
        "emp1=Employee(\"ali\",60000)"
      ]
    },
    {
      "cell_type": "code",
      "execution_count": 58,
      "metadata": {},
      "outputs": [
        {
          "ename": "SalaryError",
          "evalue": "Salary is too low!",
          "output_type": "error",
          "traceback": [
            "\u001b[1;31m---------------------------------------------------------------------------\u001b[0m",
            "\u001b[1;31mSalaryError\u001b[0m                               Traceback (most recent call last)",
            "Cell \u001b[1;32mIn[58], line 1\u001b[0m\n\u001b[1;32m----> 1\u001b[0m emp2\u001b[38;5;241m=\u001b[39m\u001b[43mEmployee\u001b[49m\u001b[43m(\u001b[49m\u001b[38;5;124;43m\"\u001b[39;49m\u001b[38;5;124;43malex\u001b[39;49m\u001b[38;5;124;43m\"\u001b[39;49m\u001b[43m,\u001b[49m\u001b[38;5;241;43m20000\u001b[39;49m\u001b[43m)\u001b[49m\n",
            "Cell \u001b[1;32mIn[56], line 9\u001b[0m, in \u001b[0;36mEmployee.__init__\u001b[1;34m(self, name, salary)\u001b[0m\n\u001b[0;32m      7\u001b[0m \u001b[38;5;28mself\u001b[39m\u001b[38;5;241m.\u001b[39mname \u001b[38;5;241m=\u001b[39m name    \n\u001b[0;32m      8\u001b[0m \u001b[38;5;28;01mif\u001b[39;00m salary \u001b[38;5;241m<\u001b[39m Employee\u001b[38;5;241m.\u001b[39mMIN_SALARY:\n\u001b[1;32m----> 9\u001b[0m   \u001b[38;5;28;01mraise\u001b[39;00m SalaryError(\u001b[38;5;124m\"\u001b[39m\u001b[38;5;124mSalary is too low!\u001b[39m\u001b[38;5;124m\"\u001b[39m)      \n\u001b[0;32m     10\u001b[0m \u001b[38;5;28mself\u001b[39m\u001b[38;5;241m.\u001b[39msalary \u001b[38;5;241m=\u001b[39m salary\n",
            "\u001b[1;31mSalaryError\u001b[0m: Salary is too low!"
          ]
        }
      ],
      "source": [
        "emp2=Employee(\"alex\",20000)"
      ]
    },
    {
      "cell_type": "markdown",
      "metadata": {},
      "source": [
        "**__Private variables**\n",
        "\n",
        "Private variables are meant to be accessed only within the class that defines them. Python signifies private variables by prefixing the variable name with a double underscore (__). This triggers name mangling, which makes it harder (but not impossible) to access private variables from outside the class"
      ]
    },
    {
      "cell_type": "code",
      "execution_count": 85,
      "metadata": {
        "colab": {
          "base_uri": "https://localhost:8080/"
        },
        "id": "SDx5OSmm4BUj",
        "outputId": "2518fd3e-54e6-4d85-bab0-e56398b5b54f"
      },
      "outputs": [
        {
          "ename": "AttributeError",
          "evalue": "'MyClass1' object has no attribute '__x'",
          "output_type": "error",
          "traceback": [
            "\u001b[1;31m---------------------------------------------------------------------------\u001b[0m",
            "\u001b[1;31mAttributeError\u001b[0m                            Traceback (most recent call last)",
            "Cell \u001b[1;32mIn[85], line 9\u001b[0m\n\u001b[0;32m      6\u001b[0m             \u001b[38;5;28;01mreturn\u001b[39;00m \u001b[38;5;28mself\u001b[39m\u001b[38;5;241m.\u001b[39m__x\n\u001b[0;32m      8\u001b[0m ob \u001b[38;5;241m=\u001b[39m MyClass1()\n\u001b[1;32m----> 9\u001b[0m \u001b[38;5;28mprint\u001b[39m(\u001b[43mob\u001b[49m\u001b[38;5;241;43m.\u001b[39;49m\u001b[43m__x\u001b[49m) \u001b[38;5;66;03m# This would raise an AttributeError\u001b[39;00m\n",
            "\u001b[1;31mAttributeError\u001b[0m: 'MyClass1' object has no attribute '__x'"
          ]
        }
      ],
      "source": [
        "class MyClass1:\n",
        "    def __init__(self):\n",
        "            self.__x = \"I am private\"\n",
        "\n",
        "    def get_private_var(self):\n",
        "            return self.__x\n",
        "\n",
        "ob = MyClass1()\n",
        "print(ob.__x) # This would raise an AttributeError"
      ]
    },
    {
      "cell_type": "code",
      "execution_count": 86,
      "metadata": {},
      "outputs": [
        {
          "name": "stdout",
          "output_type": "stream",
          "text": [
            "I am private\n"
          ]
        }
      ],
      "source": [
        "print(ob.get_private_var()) # Accessible via a public method"
      ]
    },
    {
      "cell_type": "code",
      "execution_count": 90,
      "metadata": {},
      "outputs": [
        {
          "name": "stdout",
          "output_type": "stream",
          "text": [
            "I am private\n"
          ]
        }
      ],
      "source": [
        "print(ob._MyClass1__x) # Accessible through name mangling, but highly discouraged"
      ]
    },
    {
      "cell_type": "markdown",
      "metadata": {},
      "source": [
        "**_Protected variables**\n",
        "\n",
        "Indicates that the variable is intended for internal use within the class and its subclasses. While technically accessible from outside the class, it serves as a strong hint to other developers that direct access is discouraged and should be avoided unless necessary"
      ]
    },
    {
      "cell_type": "code",
      "execution_count": 83,
      "metadata": {},
      "outputs": [
        {
          "name": "stdout",
          "output_type": "stream",
          "text": [
            "I am protected\n"
          ]
        }
      ],
      "source": [
        "class MyClass2:\n",
        "        def __init__(self):\n",
        "            self._y = \"I am protected\"\n",
        "\n",
        "obj = MyClass2()\n",
        "print(obj._y) # Accessible, but discouraged for external use"
      ]
    },
    {
      "cell_type": "markdown",
      "metadata": {},
      "source": [
        "**Inner Class**"
      ]
    },
    {
      "cell_type": "code",
      "execution_count": 63,
      "metadata": {},
      "outputs": [],
      "source": [
        "class Employee:\n",
        "    def __init__(self, name, id, ram, core):\n",
        "        self.name = name\n",
        "        self.id = id\n",
        "        self.laptop = self.Laptop(ram, core)\n",
        "    \n",
        "    class Laptop:\n",
        "        def __init__(self, ram, core):\n",
        "            self.ram = ram\n",
        "            self.core = core"
      ]
    },
    {
      "cell_type": "code",
      "execution_count": 64,
      "metadata": {},
      "outputs": [],
      "source": [
        "e1=Employee('Ali','001','8gb',4)"
      ]
    },
    {
      "cell_type": "code",
      "execution_count": 65,
      "metadata": {},
      "outputs": [
        {
          "data": {
            "text/plain": [
              "<__main__.Employee.Laptop at 0x1bff2f816f0>"
            ]
          },
          "execution_count": 65,
          "metadata": {},
          "output_type": "execute_result"
        }
      ],
      "source": [
        "e1.laptop"
      ]
    },
    {
      "cell_type": "code",
      "execution_count": 66,
      "metadata": {},
      "outputs": [
        {
          "data": {
            "text/plain": [
              "'8gb'"
            ]
          },
          "execution_count": 66,
          "metadata": {},
          "output_type": "execute_result"
        }
      ],
      "source": [
        "e1.laptop.ram"
      ]
    },
    {
      "cell_type": "markdown",
      "metadata": {},
      "source": [
        "**Object used as an attribute inside another class**"
      ]
    },
    {
      "cell_type": "code",
      "execution_count": 67,
      "metadata": {},
      "outputs": [],
      "source": [
        "class Battery:\n",
        "    def __init__(self, cells, watts, price):\n",
        "        self.cells=cells\n",
        "        self.watts=watts\n",
        "        self.price=price\n",
        "\n",
        "class ElectricCar:\n",
        "    def __init__(self, name, engine, capacity):\n",
        "        self.name=name\n",
        "        self.engine=engine\n",
        "        self.capacity=capacity\n",
        "        self.battery=Battery(4,100,'5k')"
      ]
    },
    {
      "cell_type": "code",
      "execution_count": 68,
      "metadata": {},
      "outputs": [],
      "source": [
        "e1=ElectricCar('Tesla','1000cc',4)"
      ]
    },
    {
      "cell_type": "code",
      "execution_count": 69,
      "metadata": {},
      "outputs": [
        {
          "data": {
            "text/plain": [
              "'Tesla'"
            ]
          },
          "execution_count": 69,
          "metadata": {},
          "output_type": "execute_result"
        }
      ],
      "source": [
        "e1.name"
      ]
    },
    {
      "cell_type": "code",
      "execution_count": 70,
      "metadata": {},
      "outputs": [
        {
          "data": {
            "text/plain": [
              "<__main__.Battery at 0x1bff26d1960>"
            ]
          },
          "execution_count": 70,
          "metadata": {},
          "output_type": "execute_result"
        }
      ],
      "source": [
        "e1.battery"
      ]
    },
    {
      "cell_type": "code",
      "execution_count": 71,
      "metadata": {},
      "outputs": [
        {
          "data": {
            "text/plain": [
              "'5k'"
            ]
          },
          "execution_count": 71,
          "metadata": {},
          "output_type": "execute_result"
        }
      ],
      "source": [
        "e1.battery.price"
      ]
    }
  ],
  "metadata": {
    "colab": {
      "collapsed_sections": [],
      "name": "Inheritance.ipynb",
      "provenance": []
    },
    "kernelspec": {
      "display_name": "Python 3",
      "name": "python3"
    },
    "language_info": {
      "codemirror_mode": {
        "name": "ipython",
        "version": 3
      },
      "file_extension": ".py",
      "mimetype": "text/x-python",
      "name": "python",
      "nbconvert_exporter": "python",
      "pygments_lexer": "ipython3",
      "version": "3.10.11"
    }
  },
  "nbformat": 4,
  "nbformat_minor": 0
}
